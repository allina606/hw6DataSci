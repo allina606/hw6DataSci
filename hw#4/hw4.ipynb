{
 "cells": [
  {
   "cell_type": "code",
   "execution_count": 1,
   "metadata": {},
   "outputs": [
    {
     "data": {
      "text/html": [
       "<div>\n",
       "<style scoped>\n",
       "    .dataframe tbody tr th:only-of-type {\n",
       "        vertical-align: middle;\n",
       "    }\n",
       "\n",
       "    .dataframe tbody tr th {\n",
       "        vertical-align: top;\n",
       "    }\n",
       "\n",
       "    .dataframe thead th {\n",
       "        text-align: right;\n",
       "    }\n",
       "</style>\n",
       "<table border=\"1\" class=\"dataframe\">\n",
       "  <thead>\n",
       "    <tr style=\"text-align: right;\">\n",
       "      <th></th>\n",
       "      <th>company</th>\n",
       "      <th>year/quarter</th>\n",
       "      <th>revenue</th>\n",
       "      <th>earnings</th>\n",
       "      <th>dividents</th>\n",
       "    </tr>\n",
       "  </thead>\n",
       "  <tbody>\n",
       "    <tr>\n",
       "      <td>0</td>\n",
       "      <td>ibm</td>\n",
       "      <td>202003</td>\n",
       "      <td>17,560</td>\n",
       "      <td>1.89</td>\n",
       "      <td>1.63</td>\n",
       "    </tr>\n",
       "    <tr>\n",
       "      <td>1</td>\n",
       "      <td>ibm</td>\n",
       "      <td>202002</td>\n",
       "      <td>18,123</td>\n",
       "      <td>1.52</td>\n",
       "      <td>1.63</td>\n",
       "    </tr>\n",
       "    <tr>\n",
       "      <td>2</td>\n",
       "      <td>ibm</td>\n",
       "      <td>202001</td>\n",
       "      <td>17571</td>\n",
       "      <td>1.31</td>\n",
       "      <td>1.62</td>\n",
       "    </tr>\n",
       "    <tr>\n",
       "      <td>3</td>\n",
       "      <td>ibm</td>\n",
       "      <td>201904</td>\n",
       "      <td>21776</td>\n",
       "      <td>4.11</td>\n",
       "      <td>1.62</td>\n",
       "    </tr>\n",
       "    <tr>\n",
       "      <td>4</td>\n",
       "      <td>ibm</td>\n",
       "      <td>201903</td>\n",
       "      <td>18028</td>\n",
       "      <td>1.87</td>\n",
       "      <td>1.62</td>\n",
       "    </tr>\n",
       "    <tr>\n",
       "      <td>...</td>\n",
       "      <td>...</td>\n",
       "      <td>...</td>\n",
       "      <td>...</td>\n",
       "      <td>...</td>\n",
       "      <td>...</td>\n",
       "    </tr>\n",
       "    <tr>\n",
       "      <td>58</td>\n",
       "      <td>GE</td>\n",
       "      <td>201903</td>\n",
       "      <td>23360</td>\n",
       "      <td>1.08</td>\n",
       "      <td>0.01</td>\n",
       "    </tr>\n",
       "    <tr>\n",
       "      <td>59</td>\n",
       "      <td>GE</td>\n",
       "      <td>201902</td>\n",
       "      <td>23414</td>\n",
       "      <td>0.01</td>\n",
       "      <td>0.03</td>\n",
       "    </tr>\n",
       "    <tr>\n",
       "      <td>60</td>\n",
       "      <td>GE</td>\n",
       "      <td>201901</td>\n",
       "      <td>22202</td>\n",
       "      <td>0.41</td>\n",
       "      <td>0.01</td>\n",
       "    </tr>\n",
       "    <tr>\n",
       "      <td>61</td>\n",
       "      <td>GE</td>\n",
       "      <td>201804</td>\n",
       "      <td>16670</td>\n",
       "      <td>0.07</td>\n",
       "      <td>0.14</td>\n",
       "    </tr>\n",
       "    <tr>\n",
       "      <td>62</td>\n",
       "      <td>GE</td>\n",
       "      <td>201803</td>\n",
       "      <td>23392</td>\n",
       "      <td>2.62</td>\n",
       "      <td>0.12</td>\n",
       "    </tr>\n",
       "  </tbody>\n",
       "</table>\n",
       "<p>63 rows × 5 columns</p>\n",
       "</div>"
      ],
      "text/plain": [
       "   company  year/quarter revenue  earnings  dividents\n",
       "0      ibm        202003  17,560      1.89       1.63\n",
       "1      ibm        202002  18,123      1.52       1.63\n",
       "2      ibm        202001   17571      1.31       1.62\n",
       "3      ibm        201904   21776      4.11       1.62\n",
       "4      ibm        201903   18028      1.87       1.62\n",
       "..     ...           ...     ...       ...        ...\n",
       "58      GE        201903   23360      1.08       0.01\n",
       "59      GE        201902   23414      0.01       0.03\n",
       "60      GE        201901   22202      0.41       0.01\n",
       "61      GE        201804   16670      0.07       0.14\n",
       "62      GE        201803   23392      2.62       0.12\n",
       "\n",
       "[63 rows x 5 columns]"
      ]
     },
     "execution_count": 1,
     "metadata": {},
     "output_type": "execute_result"
    }
   ],
   "source": [
    "# open the file\n",
    "import pandas as pd\n",
    "data = pd.read_csv('hw4.csv')\n",
    "\n",
    "data"
   ]
  },
  {
   "cell_type": "code",
   "execution_count": null,
   "metadata": {},
   "outputs": [],
   "source": [
    "# build linear [y = a+bx ], \n",
    "# logarithmic [y = a+b*log(x) ], \n",
    "# exponential [ y=b*exp(a*x) ], and \n",
    "# power curve [ y=b*x^a ] \n",
    "\n",
    "# create model class"
   ]
  },
  {
   "cell_type": "code",
   "execution_count": null,
   "metadata": {},
   "outputs": [],
   "source": [
    "# train model for each company"
   ]
  },
  {
   "cell_type": "code",
   "execution_count": null,
   "metadata": {},
   "outputs": [],
   "source": [
    "# predict model on last val"
   ]
  },
  {
   "cell_type": "code",
   "execution_count": null,
   "metadata": {},
   "outputs": [],
   "source": [
    "# analyze r^2 rate"
   ]
  },
  {
   "cell_type": "code",
   "execution_count": null,
   "metadata": {},
   "outputs": [],
   "source": [
    "# talk abt which algo works best with which company (highest r^2 #)"
   ]
  },
  {
   "cell_type": "code",
   "execution_count": null,
   "metadata": {},
   "outputs": [],
   "source": [
    "# use best algo for each company, give error rate for each company"
   ]
  }
 ],
 "metadata": {
  "kernelspec": {
   "display_name": "Python 3",
   "language": "python",
   "name": "python3"
  },
  "language_info": {
   "codemirror_mode": {
    "name": "ipython",
    "version": 3
   },
   "file_extension": ".py",
   "mimetype": "text/x-python",
   "name": "python",
   "nbconvert_exporter": "python",
   "pygments_lexer": "ipython3",
   "version": "3.7.4"
  }
 },
 "nbformat": 4,
 "nbformat_minor": 2
}
