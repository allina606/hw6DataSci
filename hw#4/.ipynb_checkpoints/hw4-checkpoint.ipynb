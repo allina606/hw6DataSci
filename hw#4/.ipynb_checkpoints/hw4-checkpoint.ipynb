{
 "cells": [
  {
   "cell_type": "code",
   "execution_count": 108,
   "metadata": {},
   "outputs": [
    {
     "data": {
      "text/html": [
       "<div>\n",
       "<style scoped>\n",
       "    .dataframe tbody tr th:only-of-type {\n",
       "        vertical-align: middle;\n",
       "    }\n",
       "\n",
       "    .dataframe tbody tr th {\n",
       "        vertical-align: top;\n",
       "    }\n",
       "\n",
       "    .dataframe thead th {\n",
       "        text-align: right;\n",
       "    }\n",
       "</style>\n",
       "<table border=\"1\" class=\"dataframe\">\n",
       "  <thead>\n",
       "    <tr style=\"text-align: right;\">\n",
       "      <th></th>\n",
       "      <th>company</th>\n",
       "      <th>year/quarter</th>\n",
       "      <th>revenue</th>\n",
       "      <th>earnings</th>\n",
       "      <th>dividents</th>\n",
       "    </tr>\n",
       "  </thead>\n",
       "  <tbody>\n",
       "    <tr>\n",
       "      <td>0</td>\n",
       "      <td>ibm</td>\n",
       "      <td>202003.0</td>\n",
       "      <td>17560.0</td>\n",
       "      <td>1.89</td>\n",
       "      <td>1.63</td>\n",
       "    </tr>\n",
       "    <tr>\n",
       "      <td>1</td>\n",
       "      <td>ibm</td>\n",
       "      <td>202002.0</td>\n",
       "      <td>18123.0</td>\n",
       "      <td>1.52</td>\n",
       "      <td>1.63</td>\n",
       "    </tr>\n",
       "    <tr>\n",
       "      <td>2</td>\n",
       "      <td>ibm</td>\n",
       "      <td>202001.0</td>\n",
       "      <td>17571.0</td>\n",
       "      <td>1.31</td>\n",
       "      <td>1.62</td>\n",
       "    </tr>\n",
       "    <tr>\n",
       "      <td>3</td>\n",
       "      <td>ibm</td>\n",
       "      <td>201904.0</td>\n",
       "      <td>21776.0</td>\n",
       "      <td>4.11</td>\n",
       "      <td>1.62</td>\n",
       "    </tr>\n",
       "    <tr>\n",
       "      <td>4</td>\n",
       "      <td>ibm</td>\n",
       "      <td>201903.0</td>\n",
       "      <td>18028.0</td>\n",
       "      <td>1.87</td>\n",
       "      <td>1.62</td>\n",
       "    </tr>\n",
       "    <tr>\n",
       "      <td>...</td>\n",
       "      <td>...</td>\n",
       "      <td>...</td>\n",
       "      <td>...</td>\n",
       "      <td>...</td>\n",
       "      <td>...</td>\n",
       "    </tr>\n",
       "    <tr>\n",
       "      <td>58</td>\n",
       "      <td>GE</td>\n",
       "      <td>201903.0</td>\n",
       "      <td>23360.0</td>\n",
       "      <td>1.08</td>\n",
       "      <td>0.01</td>\n",
       "    </tr>\n",
       "    <tr>\n",
       "      <td>59</td>\n",
       "      <td>GE</td>\n",
       "      <td>201902.0</td>\n",
       "      <td>23414.0</td>\n",
       "      <td>0.01</td>\n",
       "      <td>0.03</td>\n",
       "    </tr>\n",
       "    <tr>\n",
       "      <td>60</td>\n",
       "      <td>GE</td>\n",
       "      <td>201901.0</td>\n",
       "      <td>22202.0</td>\n",
       "      <td>0.41</td>\n",
       "      <td>0.01</td>\n",
       "    </tr>\n",
       "    <tr>\n",
       "      <td>61</td>\n",
       "      <td>GE</td>\n",
       "      <td>201804.0</td>\n",
       "      <td>16670.0</td>\n",
       "      <td>0.07</td>\n",
       "      <td>0.14</td>\n",
       "    </tr>\n",
       "    <tr>\n",
       "      <td>62</td>\n",
       "      <td>GE</td>\n",
       "      <td>201803.0</td>\n",
       "      <td>23392.0</td>\n",
       "      <td>2.62</td>\n",
       "      <td>0.12</td>\n",
       "    </tr>\n",
       "  </tbody>\n",
       "</table>\n",
       "<p>63 rows × 5 columns</p>\n",
       "</div>"
      ],
      "text/plain": [
       "   company  year/quarter  revenue  earnings  dividents\n",
       "0      ibm      202003.0  17560.0      1.89       1.63\n",
       "1      ibm      202002.0  18123.0      1.52       1.63\n",
       "2      ibm      202001.0  17571.0      1.31       1.62\n",
       "3      ibm      201904.0  21776.0      4.11       1.62\n",
       "4      ibm      201903.0  18028.0      1.87       1.62\n",
       "..     ...           ...      ...       ...        ...\n",
       "58      GE      201903.0  23360.0      1.08       0.01\n",
       "59      GE      201902.0  23414.0      0.01       0.03\n",
       "60      GE      201901.0  22202.0      0.41       0.01\n",
       "61      GE      201804.0  16670.0      0.07       0.14\n",
       "62      GE      201803.0  23392.0      2.62       0.12\n",
       "\n",
       "[63 rows x 5 columns]"
      ]
     },
     "execution_count": 108,
     "metadata": {},
     "output_type": "execute_result"
    }
   ],
   "source": [
    "# open the file\n",
    "import pandas as pd\n",
    "import numpy as np\n",
    "\n",
    "data = pd.read_csv('hw4.csv')\n",
    "\n",
    "data"
   ]
  },
  {
   "cell_type": "code",
   "execution_count": 118,
   "metadata": {},
   "outputs": [],
   "source": [
    "def linear_pred(b0, b1, x):\n",
    "    return b0+b1*x\n",
    "\n",
    "def log_pred(b0, b1, x):\n",
    "    return b0+b1*np.log(x)\n",
    "\n",
    "def expo_pred(b0, b1, x):\n",
    "    return b1*(b0**x)\n",
    "\n",
    "def power_pred(b0, b1, x):\n",
    "    return b1*(x ** b0)"
   ]
  },
  {
   "cell_type": "code",
   "execution_count": 119,
   "metadata": {},
   "outputs": [
    {
     "name": "stdout",
     "output_type": "stream",
     "text": [
      "Next quarter predictions for  ibm  are:\n",
      "[17974.976638612803, 2443168.589033771, -inf, -inf]\n",
      "[1.2577021168069678, 1000.6460747161897, -inf, -inf]\n",
      "[1.0, 1.0, 0.0, 0.0]\n",
      "Next quarter predictions for  MSFT  are:\n",
      "[36527.46968885511, -5891658.903058242, inf, 0.0]\n",
      "[1.0, 1.0, 0.0, 0.0]\n",
      "[0.0, 0.0, 0.0, 0.0]\n",
      "Next quarter predictions for  AAPL  are:\n",
      "[59443.173973476514, 14611235.90543537, -inf, -inf]\n",
      "[0.0038510584034838757, 499.69803735809484, -inf, -inf]\n",
      "[0.0, 0.0, 0.0, 0.0]\n",
      "Next quarter predictions for  GOOG  are:\n",
      "[36274.69706707494, -3241891.7398552005, inf, 0.0]\n",
      "[10.010418260647839, 3033.932968342285, -inf, -inf]\n",
      "[0.0, 0.0, 0.0, 0.0]\n",
      "Next quarter predictions for  FB  are:\n",
      "[18702.157982657198, -2989642.2970539257, inf, 0.0]\n",
      "[0.8851951032899592, 487.70066526123674, -inf, -inf]\n",
      "[0.0, 0.0, 0.0, 0.0]\n",
      "Next quarter predictions for  PG  are:\n",
      "[17459.672711043153, -399558.30744510447, inf, 0.0]\n",
      "[1.1237311910226984, 3.6994744193716227, -inf, -541286504110655.2]\n",
      "[0.0, 0.0, 0.0, 0.0]\n",
      "Next quarter predictions for  GE  are:\n",
      "[15215.082440704107, 9111439.41463879, -inf, -inf]\n",
      "[-0.12871716398876742, 1022.4413444905343, -inf, -inf]\n",
      "[0.0, 0.0, 0.0, 0.0]\n"
     ]
    },
    {
     "name": "stderr",
     "output_type": "stream",
     "text": [
      "/Library/Frameworks/Python.framework/Versions/3.7/lib/python3.7/site-packages/ipykernel_launcher.py:9: RuntimeWarning: overflow encountered in double_scalars\n",
      "  if __name__ == '__main__':\n",
      "/Library/Frameworks/Python.framework/Versions/3.7/lib/python3.7/site-packages/ipykernel_launcher.py:12: RuntimeWarning: overflow encountered in double_scalars\n",
      "  if sys.path[0] == '':\n"
     ]
    }
   ],
   "source": [
    "# uses r-squared metric to find best algorithm\n",
    "def getBestAlgo(arr):\n",
    "    # stores r squared scores to find best algorithm\n",
    "    bestAlgo = []\n",
    "    \n",
    "    \n",
    "    \n",
    "    \n",
    "#     bestAlgo = arr.index( max(arr) )\n",
    "    \n",
    "#     if(bestAlgo == 0) print(\"linear\")\n",
    "    \n",
    "\n",
    "def getBestPrediction(b0, b1, start):\n",
    "    # array of algorithm predictions\n",
    "    algoPred = []\n",
    "    \n",
    "    algoPred.append( linear_pred(b0,b1, data.iloc[start,1]) )\n",
    "    algoPred.append( log_pred(b0,b1, data.iloc[start,1]) )\n",
    "    algoPred.append( expo_pred(b0,b1, data.iloc[start,1]) )\n",
    "    algoPred.append( power_pred(b0,b1, data.iloc[start,1]) )\n",
    "    \n",
    "    # will store idx of best algo\n",
    "    bestAlgo = getBestAlgo( algoPred )\n",
    "    \n",
    "    print(algoPred)\n",
    "    \n",
    "    \n",
    "\n",
    "def getTraining(colname, start, end):\n",
    "    x =list(data['year/quarter'].iloc[start:end].astype(int).to_numpy())\n",
    "    y = list(data[colname].iloc[start:end].astype(int).to_numpy())\n",
    "    \n",
    "    # beta coefficient formula\n",
    "    numerator = np.sum((x-np.mean(x))*(y-np.mean(y)))\n",
    "    denominator = np.sum((x-np.mean(x)) ** 2)\n",
    "    b1 = numerator/denominator\n",
    "    \n",
    "    # bias coefficient (intercept, moves line up or down)\n",
    "    b0 = np.mean(y)-(b1*np.mean(x))\n",
    "    \n",
    "    bestAlgoPred = getBestPrediction(b0,b1,start)\n",
    "    \n",
    "    # getErrorRate(bestAlgoPred, colname)\n",
    "\n",
    "start = 1 # inclusive\n",
    "end = 9 # exclusive\n",
    "y_idx = 0\n",
    "\n",
    "while y_idx<=54:\n",
    "    print(\"Next quarter predictions for \", data.iloc[start,0], \" are:\")\n",
    "    \n",
    "    getTraining(\"revenue\", start, end)\n",
    "    getTraining(\"earnings\", start, end)\n",
    "    getTraining(\"dividents\", start, end)\n",
    "    \n",
    "    y_idx = end\n",
    "    start = end+1\n",
    "    end = end + 9\n",
    "    "
   ]
  },
  {
   "cell_type": "code",
   "execution_count": 89,
   "metadata": {
    "scrolled": true
   },
   "outputs": [
    {
     "data": {
      "text/plain": [
       "[202002, 202001, 201904, 201903, 201902, 201901, 201804, 201803]"
      ]
     },
     "execution_count": 89,
     "metadata": {},
     "output_type": "execute_result"
    }
   ],
   "source": [
    "\n",
    "# x = data[[\"company\",\"revenue\"]].iloc[0:9]\n",
    "y = list(data[\"revenue\"].iloc[1:9].astype(int).to_numpy())\n",
    "\n",
    "\n",
    "# x = np.arange(0,10)\n",
    "x"
   ]
  },
  {
   "cell_type": "code",
   "execution_count": 90,
   "metadata": {},
   "outputs": [
    {
     "data": {
      "text/plain": [
       "-12.006516194848253"
      ]
     },
     "execution_count": 90,
     "metadata": {},
     "output_type": "execute_result"
    }
   ],
   "source": [
    "# parse through dataframe to get data you need\n",
    "\n",
    "# test\n",
    "\n",
    "# beta coefficient formula\n",
    "numerator = np.sum((x-np.mean(x))*(y-np.mean(y)))\n",
    "denominator = np.sum((x-np.mean(x)) ** 2)\n",
    "\n",
    "b1 = numerator/denominator\n",
    "\n",
    "b1"
   ]
  },
  {
   "cell_type": "code",
   "execution_count": 92,
   "metadata": {},
   "outputs": [
    {
     "data": {
      "text/plain": [
       "2443315.2610303494"
      ]
     },
     "execution_count": 92,
     "metadata": {},
     "output_type": "execute_result"
    }
   ],
   "source": [
    "# bias coefficient (intercept, moves line up or down)\n",
    "b0 = np.mean(y)-(b1*np.mean(x))\n",
    "\n",
    "b0"
   ]
  },
  {
   "cell_type": "code",
   "execution_count": 99,
   "metadata": {},
   "outputs": [
    {
     "data": {
      "text/plain": [
       "17962.9701224179"
      ]
     },
     "execution_count": 99,
     "metadata": {},
     "output_type": "execute_result"
    }
   ],
   "source": [
    "def linear_pred(b0, b1, x):\n",
    "    return b0+b1*x\n",
    "\n",
    "\n",
    "def log_pred(b0, b1, x):\n",
    "    return b0+b1*log(x)\n",
    "\n",
    "def expo_pred(b0, b1, x):\n",
    "    return b1*(b0**x)\n",
    "\n",
    "def power_pred(b0, b1, x):\n",
    "    return b1*(x ** b0)\n",
    "\n",
    "\n",
    "# predict current quarter\n",
    "currQ = linear_predict(data.iloc[0,1])\n",
    "\n",
    "currQ\n",
    "\n",
    "# getting error:\n",
    "# data.iloc[0,1]"
   ]
  },
  {
   "cell_type": "code",
   "execution_count": null,
   "metadata": {},
   "outputs": [],
   "source": [
    "# build linear [y = a+bx ], \n",
    "# logarithmic [y = a+b*log(x) ], \n",
    "# exponential [ y=b*exp(a*x) ], and \n",
    "# power curve [ y=b*x^a ] \n",
    "\n",
    "# create model class"
   ]
  },
  {
   "cell_type": "code",
   "execution_count": null,
   "metadata": {},
   "outputs": [],
   "source": [
    "# train model for each company"
   ]
  },
  {
   "cell_type": "code",
   "execution_count": null,
   "metadata": {},
   "outputs": [],
   "source": [
    "# predict model on last val"
   ]
  },
  {
   "cell_type": "code",
   "execution_count": null,
   "metadata": {},
   "outputs": [],
   "source": [
    "# analyze r^2 rate"
   ]
  },
  {
   "cell_type": "code",
   "execution_count": null,
   "metadata": {},
   "outputs": [],
   "source": [
    "# talk abt which algo works best with which company (highest r^2 #)"
   ]
  },
  {
   "cell_type": "code",
   "execution_count": null,
   "metadata": {},
   "outputs": [],
   "source": [
    "# use best algo for each company, give error rate for each company"
   ]
  }
 ],
 "metadata": {
  "kernelspec": {
   "display_name": "Python 3",
   "language": "python",
   "name": "python3"
  },
  "language_info": {
   "codemirror_mode": {
    "name": "ipython",
    "version": 3
   },
   "file_extension": ".py",
   "mimetype": "text/x-python",
   "name": "python",
   "nbconvert_exporter": "python",
   "pygments_lexer": "ipython3",
   "version": "3.7.4"
  }
 },
 "nbformat": 4,
 "nbformat_minor": 2
}
