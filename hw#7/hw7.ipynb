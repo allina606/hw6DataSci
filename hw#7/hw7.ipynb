{
 "cells": [
  {
   "cell_type": "code",
   "execution_count": 96,
   "metadata": {},
   "outputs": [],
   "source": [
    "import requests\n",
    "import pandas as pd\n",
    "from bs4 import BeautifulSoup\n",
    "\n",
    "# GETTING ALL LISTING DATA FROM ETSY API\n",
    "val = requests.get('https://openapi.etsy.com/v2/listings/active?api_key={YOUR API KEY HERE}&limit=100').json()\n"
   ]
  },
  {
   "cell_type": "code",
   "execution_count": 97,
   "metadata": {},
   "outputs": [
    {
     "data": {
      "text/plain": [
       "100"
      ]
     },
     "execution_count": 97,
     "metadata": {},
     "output_type": "execute_result"
    }
   ],
   "source": [
    "len(val['results'])"
   ]
  },
  {
   "cell_type": "code",
   "execution_count": 98,
   "metadata": {},
   "outputs": [],
   "source": [
    "stop_words = [\"a\", \"about\", \"above\", \"above\", \"across\", \"after\", \"afterwards\", \"again\", \"against\", \"all\", \"almost\", \"alone\", \"along\", \"already\", \"also\",\"although\",\"always\",\"am\",\"among\", \"amongst\", \"amoungst\", \"amount\",  \"an\", \"and\", \"another\", \"any\",\"anyhow\",\"anyone\",\"anything\",\"anyway\", \"anywhere\", \"are\", \"around\", \"as\",  \"at\", \"back\",\"be\",\"became\", \"because\",\"become\",\"becomes\", \"becoming\", \"been\", \"before\", \"beforehand\", \"behind\", \"being\", \"below\", \"beside\", \"besides\", \"between\", \"beyond\", \"bill\", \"both\", \"bottom\",\"but\", \"by\", \"call\", \"can\", \"cannot\", \"cant\", \"co\", \"con\", \"could\", \"couldnt\", \"cry\", \"de\", \"describe\", \"detail\", \"do\", \"done\", \"don't\", \"down\", \"due\", \"during\", \"each\", \"eg\", \"eight\", \"either\", \"eleven\",\"else\", \"elsewhere\", \"empty\", \"enough\", \"etc\", \"even\", \"ever\", \"every\", \"everyone\", \"everything\", \"everywhere\", \"except\", \"few\", \"fifteen\", \"fify\", \"fill\", \"find\", \"fire\", \"first\", \"five\", \"for\", \"former\", \"formerly\", \"forty\", \"found\", \"four\", \"from\", \"front\", \"full\", \"further\", \"get\", \"give\", \"go\", \"had\", \"has\", \"hasnt\", \"have\", \"he\", \"hence\", \"her\", \"here\", \"hereafter\", \"hereby\", \"herein\", \"hereupon\", \"hers\", \"herself\", \"him\", \"himself\", \"his\", \"how\", \"however\", \"hundred\", \"i\", \"ie\", \"if\", \"in\", \"inc\", \"indeed\", \"interest\", \"into\", \"is\", \"it\", \"its\", \"itself\", \"keep\", \"last\", \"latter\", \"latterly\", \"least\", \"less\", \"ltd\", \"made\", \"many\", \"may\", \"me\", \"meanwhile\", \"might\", \"mill\", \"mine\", \"more\", \"moreover\", \"most\", \"mostly\", \"move\", \"much\", \"must\", \"my\", \"myself\", \"name\", \"namely\", \"neither\", \"never\", \"nevertheless\", \"next\", \"nine\", \"no\", \"nobody\", \"none\", \"noone\", \"nor\", \"not\", \"nothing\", \"now\", \"nowhere\", \"of\", \"off\", \"often\", \"on\", \"once\", \"one\", \"only\", \"onto\", \"or\", \"other\", \"others\", \"otherwise\", \"our\", \"ours\", \"ourselves\", \"out\", \"over\", \"own\",\"part\", \"per\", \"perhaps\", \"please\", \"put\", \"rather\", \"re\", \"same\", \"see\", \"seem\", \"seemed\", \"seeming\", \"seems\", \"serious\", \"several\", \"she\", \"should\", \"show\", \"side\", \"since\", \"sincere\", \"six\", \"sixty\", \"so\", \"some\", \"somehow\", \"someone\", \"something\", \"sometime\", \"sometimes\", \"somewhere\", \"still\", \"such\", \"system\", \"take\", \"ten\", \"than\", \"that\", \"the\", \"their\", \"them\", \"themselves\", \"then\", \"thence\", \"there\", \"thereafter\", \"thereby\", \"therefore\", \"therein\", \"thereupon\", \"these\", \"they\", \"thick\", \"thin\", \"third\", \"this\", \"those\", \"though\", \"three\", \"through\", \"throughout\", \"thru\", \"thus\", \"to\", \"together\", \"too\", \"top\", \"toward\", \"towards\", \"twelve\", \"twenty\", \"two\", \"un\", \"under\", \"until\", \"up\", \"upon\", \"us\", \"very\", \"via\", \"was\", \"we\", \"well\", \"were\", \"what\", \"whatever\", \"when\", \"whence\", \"whenever\", \"where\", \"whereafter\", \"whereas\", \"whereby\", \"wherein\", \"whereupon\", \"wherever\", \"whether\", \"which\", \"while\", \"whither\", \"who\", \"whoever\", \"whole\", \"whom\", \"whose\", \"why\", \"will\", \"with\", \"within\", \"without\", \"would\", \"yet\", \"you\", \"your\", \"yours\", \"yourself\", \"yourselves\", \"the\"]"
   ]
  },
  {
   "cell_type": "code",
   "execution_count": 105,
   "metadata": {
    "scrolled": true
   },
   "outputs": [],
   "source": [
    "# PRE-PROCESS ALL DATA FOR ALGORIRTHM PROCESSING\n",
    "# REMOVE STOPWORDS, PUNCTUATION, SYMBOLS, LOWERCASE\n",
    "\n",
    "import numpy as np\n",
    "from sklearn.feature_extraction.text import TfidfTransformer\n",
    "\n",
    "symbols = \",!\\\"#$%&()*+-./:;<=>?@[\\]^_`{|}~\\n\"\n",
    "\n",
    "def removeStopWords(string):\n",
    "    newstr = \"\"\n",
    "    \n",
    "    for word in string.split():\n",
    "        if word not in stop_words and len(word)>1: \n",
    "            newstr = newstr+\" \"+word\n",
    "    \n",
    "    return newstr\n",
    "\n",
    "\n",
    "for x in val['results']:\n",
    "    if len(x)>4: \n",
    "        # lowercase\n",
    "        x[\"title\"] = np.char.lower(x[\"title\"])\n",
    "        x[\"description\"] = np.char.lower(x[\"description\"])\n",
    "        \n",
    "        # symbols\n",
    "        for i in symbols:\n",
    "            x[\"title\"] = np.char.replace(x[\"title\"], i, ' ')\n",
    "            x[\"description\"] = np.char.replace(x[\"description\"], i, ' ')\n",
    "        \n",
    "        x[\"title\"] = removeStopWords(str(x[\"title\"]))\n",
    "        x[\"description\"] = removeStopWords(str(x[\"description\"]))\n",
    "        \n",
    "            \n",
    "#         print(x[\"title\"])\n",
    "#         print(x[\"description\"])"
   ]
  },
  {
   "cell_type": "code",
   "execution_count": 100,
   "metadata": {},
   "outputs": [],
   "source": [
    "# CALCULATE TF-IDF\n",
    "# STORE IN KEY VALUE PAIRS, KEY = WORD, VALUE = TFIDF\n",
    "from sklearn.feature_extraction.text import TfidfVectorizer\n",
    "\n",
    "listing_str = []\n",
    "for x in val['results']:\n",
    "    if len(x)>4: \n",
    "        listing_str.append(str(x[\"title\"]) + \" \" + str(x[\"description\"]))\n",
    "\n",
    "tfIdfVectorizer=TfidfVectorizer(use_idf=True)\n",
    "tfIdf = tfIdfVectorizer.fit_transform(listing_str)\n",
    "\n",
    "# data = {'name': tfIdfVectorizer.get_feature_names(),\n",
    "#      'td-idf': tfIdf[0].T.todense()}\n",
    "\n",
    "\n",
    "data = {}\n",
    "\n",
    "for l in range(len(tfIdfVectorizer.get_feature_names())):\n",
    "    data[tfIdfVectorizer.get_feature_names()[l]] = tfIdf[0].T.todense()[l]\n"
   ]
  },
  {
   "cell_type": "code",
   "execution_count": 106,
   "metadata": {
    "scrolled": true
   },
   "outputs": [],
   "source": [
    "# EXTRACTING X AND Y VALUES FOR PLOTTING\n",
    "# X = string_indices\n",
    "# Y = tfidf\n",
    "def get_most_freq_word(s):\n",
    "    tmpArr = []\n",
    "    for w in s.split():\n",
    "        try:\n",
    "            tmpArr.append(float(data[w]))\n",
    "        except KeyError:\n",
    "            pass\n",
    "    return max(tmpArr)\n",
    "\n",
    "string_indices = []\n",
    "tfidf = []\n",
    "count = 0\n",
    "for x in listing_str:\n",
    "    string_indices.append(count)\n",
    "    tfidf.append(get_most_freq_word(x)) # y-value\n",
    "    count = count+1\n",
    "\n",
    "# x = index within total number of strings\n",
    "# y = tf-idf for highest word frequency in each string    \n",
    "\n",
    "# print(string_indices)\n",
    "# print(tfidf)\n",
    "\n",
    "# get 2d list\n",
    "twoD_listings = np.vstack((string_indices,tfidf)).T"
   ]
  },
  {
   "cell_type": "code",
   "execution_count": 102,
   "metadata": {},
   "outputs": [
    {
     "data": {
      "image/png": "[encoded data removed]",
      "text/plain": [
       "<Figure size 432x288 with 1 Axes>"
      ]
     },
     "metadata": {
      "needs_background": "light"
     },
     "output_type": "display_data"
    }
   ],
   "source": [
    "# PLOT THESE VALUES\n",
    "import matplotlib.pyplot as plt\n",
    "from matplotlib import style\n",
    "\n",
    "plt.xlabel('listings')\n",
    "plt.ylabel('highest word frequency')\n",
    "plt.scatter(string_indices, tfidf, color='#f00000')\n",
    "plt.show()"
   ]
  },
  {
   "cell_type": "code",
   "execution_count": 104,
   "metadata": {},
   "outputs": [
    {
     "data": {
      "image/png": "[encoded data removed]",
      "text/plain": [
       "<Figure size 432x288 with 1 Axes>"
      ]
     },
     "metadata": {
      "needs_background": "light"
     },
     "output_type": "display_data"
    }
   ],
   "source": [
    "# K-NEAREST ALGO IMPLEMENTATION\n",
    "# CLUSTERING\n",
    "from sklearn.metrics import pairwise_distances_argmin\n",
    "from collections import Counter, defaultdict\n",
    "\n",
    "def knn(twoD_input, clust, rs=2):\n",
    "    # choose clusters\n",
    "    rng = np.random.RandomState(rs)\n",
    "    i = rng.permutation(twoD_input.shape[0])[:clust]\n",
    "    center = twoD_input[i]\n",
    "\n",
    "    while True:\n",
    "        labels = pairwise_distances_argmin(twoD_input, center)\n",
    "        \n",
    "        updated_center = np.array([twoD_input[labels == i].mean(0) for i in\n",
    "        range(clust)])\n",
    "\n",
    "        if np.all(center == updated_center):\n",
    "            break\n",
    "        center = updated_center\n",
    "\n",
    "    return center, labels\n",
    "\n",
    "num_of_clusters = 10\n",
    "\n",
    "centers, labels = knn(twoD_listings, num_of_clusters)\n",
    "plt.scatter(twoD_listings[:, 0], twoD_listings[:, 1], c=labels, s=50, cmap='viridis')\n",
    "plt.title('K-Means clustering of biggest tf-idf for each listing')\n",
    "plt.xlabel(\"Listings\")\n",
    "plt.ylabel(\"tf-idf\")\n",
    "plt.show()"
   ]
  },
  {
   "cell_type": "code",
   "execution_count": null,
   "metadata": {},
   "outputs": [],
   "source": [
    "# news = []\n",
    "# news.append(requests.get('https://www.cnn.com/').text)\n",
    "# news.append(requests.get('https://www.nytimes.com/').content)\n",
    "# news.append(requests.get('https://www.huffpost.com/').content)\n",
    "# news.append(requests.get('https://www.foxnews.com/').content)\n",
    "# news.append(requests.get('https://www.washingtonpost.com/').content)\n",
    "# news.append(requests.get('http://abcnews.go.com').content)\n",
    "# news.append(requests.get('https://people.com').content)\n",
    "# news.append(requests.get('https://nbcnews.com').content)\n",
    "# news.append(requests.get('https://npr.org').content)\n",
    "# news.append(requests.get('https://news.google.com').content)\n",
    "# news.append(requests.get('https://npr.org').content)\n",
    "\n",
    "# # df_list = pd.read_html(news[0])\n",
    "\n",
    "# # df_list\n",
    "\n",
    "# soup = BeautifulSoup(news[0], 'html.parser')"
   ]
  }
 ],
 "metadata": {
  "kernelspec": {
   "display_name": "Python 3",
   "language": "python",
   "name": "python3"
  },
  "language_info": {
   "codemirror_mode": {
    "name": "ipython",
    "version": 3
   },
   "file_extension": ".py",
   "mimetype": "text/x-python",
   "name": "python",
   "nbconvert_exporter": "python",
   "pygments_lexer": "ipython3",
   "version": "3.7.4"
  }
 },
 "nbformat": 4,
 "nbformat_minor": 2
}
