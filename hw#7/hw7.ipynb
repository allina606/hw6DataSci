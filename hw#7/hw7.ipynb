{
 "cells": [
  {
   "cell_type": "code",
   "execution_count": 14,
   "metadata": {},
   "outputs": [
    {
     "name": "stdout",
     "output_type": "stream",
     "text": [
      "None\n"
     ]
    }
   ],
   "source": [
    "import requests\n",
    "import pandas as pd\n",
    "from bs4 import BeautifulSoup\n",
    "\n",
    "news = []\n",
    "\n",
    "news.append(requests.get('https://www.cnn.com/').text)\n",
    "news.append(requests.get('https://www.nytimes.com/').content)\n",
    "news.append(requests.get('https://www.huffpost.com/').content)\n",
    "news.append(requests.get('https://www.foxnews.com/').content)\n",
    "news.append(requests.get('https://www.washingtonpost.com/').content)\n",
    "news.append(requests.get('http://abcnews.go.com').content)\n",
    "news.append(requests.get('https://people.com').content)\n",
    "news.append(requests.get('https://nbcnews.com').content)\n",
    "news.append(requests.get('https://npr.org').content)\n",
    "news.append(requests.get('https://news.google.com').content)\n",
    "news.append(requests.get('https://npr.org').content)\n",
    "\n",
    "# df_list = pd.read_html(news[0])\n",
    "\n",
    "# df_list\n",
    "\n",
    "soup = BeautifulSoup(news[0], 'html.parser')\n"
   ]
  },
  {
   "cell_type": "code",
   "execution_count": null,
   "metadata": {},
   "outputs": [],
   "source": []
  }
 ],
 "metadata": {
  "kernelspec": {
   "display_name": "Python 3",
   "language": "python",
   "name": "python3"
  },
  "language_info": {
   "codemirror_mode": {
    "name": "ipython",
    "version": 3
   },
   "file_extension": ".py",
   "mimetype": "text/x-python",
   "name": "python",
   "nbconvert_exporter": "python",
   "pygments_lexer": "ipython3",
   "version": "3.7.4"
  }
 },
 "nbformat": 4,
 "nbformat_minor": 2
}
